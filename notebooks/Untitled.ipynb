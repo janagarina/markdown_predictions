{
 "cells": [
  {
   "cell_type": "code",
   "execution_count": 2,
   "id": "2e6f91bc",
   "metadata": {},
   "outputs": [
    {
     "name": "stdout",
     "output_type": "stream",
     "text": [
      "Requirement already satisfied: markdown_predictions in /Users/jana/.pyenv/versions/3.8.6/envs/markdown_predictions/lib/python3.8/site-packages (1.5)\n",
      "Collecting markdown_predictions\n",
      "  Downloading markdown_predictions-1.6.tar.gz (4.9 kB)\n",
      "Requirement already satisfied: pip>=9 in /Users/jana/.pyenv/versions/3.8.6/envs/markdown_predictions/lib/python3.8/site-packages (from markdown_predictions) (21.2.4)\n",
      "Requirement already satisfied: setuptools>=26 in /Users/jana/.pyenv/versions/3.8.6/envs/markdown_predictions/lib/python3.8/site-packages (from markdown_predictions) (49.2.1)\n",
      "Requirement already satisfied: twine in /Users/jana/.pyenv/versions/3.8.6/envs/markdown_predictions/lib/python3.8/site-packages (from markdown_predictions) (3.4.2)\n",
      "Requirement already satisfied: wheel>=0.29 in /Users/jana/.pyenv/versions/3.8.6/envs/markdown_predictions/lib/python3.8/site-packages (from markdown_predictions) (0.37.0)\n",
      "Requirement already satisfied: numpy in /Users/jana/.pyenv/versions/3.8.6/envs/markdown_predictions/lib/python3.8/site-packages (from markdown_predictions) (1.21.1)\n",
      "Requirement already satisfied: pandas in /Users/jana/.pyenv/versions/3.8.6/envs/markdown_predictions/lib/python3.8/site-packages (from markdown_predictions) (1.3.1)\n",
      "Requirement already satisfied: scikit-learn in /Users/jana/.pyenv/versions/3.8.6/envs/markdown_predictions/lib/python3.8/site-packages (from markdown_predictions) (0.24.2)\n",
      "Requirement already satisfied: black in /Users/jana/.pyenv/versions/3.8.6/envs/markdown_predictions/lib/python3.8/site-packages (from markdown_predictions) (21.7b0)\n",
      "Requirement already satisfied: coverage in /Users/jana/.pyenv/versions/3.8.6/envs/markdown_predictions/lib/python3.8/site-packages (from markdown_predictions) (5.5)\n",
      "Requirement already satisfied: flake8 in /Users/jana/.pyenv/versions/3.8.6/envs/markdown_predictions/lib/python3.8/site-packages (from markdown_predictions) (3.9.2)\n",
      "Requirement already satisfied: pytest in /Users/jana/.pyenv/versions/3.8.6/envs/markdown_predictions/lib/python3.8/site-packages (from markdown_predictions) (6.2.4)\n",
      "Requirement already satisfied: yapf in /Users/jana/.pyenv/versions/3.8.6/envs/markdown_predictions/lib/python3.8/site-packages (from markdown_predictions) (0.31.0)\n",
      "Requirement already satisfied: gcsfs in /Users/jana/.pyenv/versions/3.8.6/envs/markdown_predictions/lib/python3.8/site-packages (from markdown_predictions) (2021.7.0)\n",
      "Requirement already satisfied: google-cloud-storage in /Users/jana/.pyenv/versions/3.8.6/envs/markdown_predictions/lib/python3.8/site-packages (from markdown_predictions) (1.42.0)\n",
      "Requirement already satisfied: mlflow in /Users/jana/.pyenv/versions/3.8.6/envs/markdown_predictions/lib/python3.8/site-packages (from markdown_predictions) (1.19.0)\n",
      "Requirement already satisfied: s3fs in /Users/jana/.pyenv/versions/3.8.6/envs/markdown_predictions/lib/python3.8/site-packages (from markdown_predictions) (2021.8.0)\n",
      "Requirement already satisfied: six>=1.14 in /Users/jana/.pyenv/versions/3.8.6/envs/markdown_predictions/lib/python3.8/site-packages (from markdown_predictions) (1.16.0)\n",
      "Requirement already satisfied: joblib in /Users/jana/.pyenv/versions/3.8.6/envs/markdown_predictions/lib/python3.8/site-packages (from markdown_predictions) (1.0.1)\n",
      "Requirement already satisfied: memoized-property in /Users/jana/.pyenv/versions/3.8.6/envs/markdown_predictions/lib/python3.8/site-packages (from markdown_predictions) (1.0.3)\n",
      "Requirement already satisfied: termcolor in /Users/jana/.pyenv/versions/3.8.6/envs/markdown_predictions/lib/python3.8/site-packages (from markdown_predictions) (1.1.0)\n",
      "Requirement already satisfied: pathspec<1,>=0.8.1 in /Users/jana/.pyenv/versions/3.8.6/envs/markdown_predictions/lib/python3.8/site-packages (from black->markdown_predictions) (0.9.0)\n",
      "Requirement already satisfied: mypy-extensions>=0.4.3 in /Users/jana/.pyenv/versions/3.8.6/envs/markdown_predictions/lib/python3.8/site-packages (from black->markdown_predictions) (0.4.3)\n",
      "Requirement already satisfied: tomli<2.0.0,>=0.2.6 in /Users/jana/.pyenv/versions/3.8.6/envs/markdown_predictions/lib/python3.8/site-packages (from black->markdown_predictions) (1.2.1)\n",
      "Requirement already satisfied: appdirs in /Users/jana/.pyenv/versions/3.8.6/envs/markdown_predictions/lib/python3.8/site-packages (from black->markdown_predictions) (1.4.4)\n",
      "Requirement already satisfied: regex>=2020.1.8 in /Users/jana/.pyenv/versions/3.8.6/envs/markdown_predictions/lib/python3.8/site-packages (from black->markdown_predictions) (2021.8.3)\n",
      "Requirement already satisfied: click>=7.1.2 in /Users/jana/.pyenv/versions/3.8.6/envs/markdown_predictions/lib/python3.8/site-packages (from black->markdown_predictions) (8.0.1)\n",
      "Requirement already satisfied: pyflakes<2.4.0,>=2.3.0 in /Users/jana/.pyenv/versions/3.8.6/envs/markdown_predictions/lib/python3.8/site-packages (from flake8->markdown_predictions) (2.3.1)\n",
      "Requirement already satisfied: pycodestyle<2.8.0,>=2.7.0 in /Users/jana/.pyenv/versions/3.8.6/envs/markdown_predictions/lib/python3.8/site-packages (from flake8->markdown_predictions) (2.7.0)\n",
      "Requirement already satisfied: mccabe<0.7.0,>=0.6.0 in /Users/jana/.pyenv/versions/3.8.6/envs/markdown_predictions/lib/python3.8/site-packages (from flake8->markdown_predictions) (0.6.1)\n",
      "Requirement already satisfied: decorator in /Users/jana/.pyenv/versions/3.8.6/envs/markdown_predictions/lib/python3.8/site-packages (from gcsfs->markdown_predictions) (5.0.9)\n",
      "Requirement already satisfied: requests in /Users/jana/.pyenv/versions/3.8.6/envs/markdown_predictions/lib/python3.8/site-packages (from gcsfs->markdown_predictions) (2.26.0)\n",
      "Requirement already satisfied: google-auth-oauthlib in /Users/jana/.pyenv/versions/3.8.6/envs/markdown_predictions/lib/python3.8/site-packages (from gcsfs->markdown_predictions) (0.4.5)\n",
      "Requirement already satisfied: fsspec==2021.07.0 in /Users/jana/.pyenv/versions/3.8.6/envs/markdown_predictions/lib/python3.8/site-packages (from gcsfs->markdown_predictions) (2021.7.0)\n",
      "Requirement already satisfied: google-auth>=1.2 in /Users/jana/.pyenv/versions/3.8.6/envs/markdown_predictions/lib/python3.8/site-packages (from gcsfs->markdown_predictions) (2.0.1)\n",
      "Requirement already satisfied: aiohttp in /Users/jana/.pyenv/versions/3.8.6/envs/markdown_predictions/lib/python3.8/site-packages (from gcsfs->markdown_predictions) (3.7.4.post0)\n",
      "Requirement already satisfied: pyasn1-modules>=0.2.1 in /Users/jana/.pyenv/versions/3.8.6/envs/markdown_predictions/lib/python3.8/site-packages (from google-auth>=1.2->gcsfs->markdown_predictions) (0.2.8)\n",
      "Requirement already satisfied: rsa<5,>=3.1.4 in /Users/jana/.pyenv/versions/3.8.6/envs/markdown_predictions/lib/python3.8/site-packages (from google-auth>=1.2->gcsfs->markdown_predictions) (4.7.2)\n",
      "Requirement already satisfied: cachetools<5.0,>=2.0.0 in /Users/jana/.pyenv/versions/3.8.6/envs/markdown_predictions/lib/python3.8/site-packages (from google-auth>=1.2->gcsfs->markdown_predictions) (4.2.2)\n",
      "Requirement already satisfied: pyasn1<0.5.0,>=0.4.6 in /Users/jana/.pyenv/versions/3.8.6/envs/markdown_predictions/lib/python3.8/site-packages (from pyasn1-modules>=0.2.1->google-auth>=1.2->gcsfs->markdown_predictions) (0.4.8)\n",
      "Requirement already satisfied: attrs>=17.3.0 in /Users/jana/.pyenv/versions/3.8.6/envs/markdown_predictions/lib/python3.8/site-packages (from aiohttp->gcsfs->markdown_predictions) (21.2.0)\n",
      "Requirement already satisfied: chardet<5.0,>=2.0 in /Users/jana/.pyenv/versions/3.8.6/envs/markdown_predictions/lib/python3.8/site-packages (from aiohttp->gcsfs->markdown_predictions) (4.0.0)\n",
      "Requirement already satisfied: multidict<7.0,>=4.5 in /Users/jana/.pyenv/versions/3.8.6/envs/markdown_predictions/lib/python3.8/site-packages (from aiohttp->gcsfs->markdown_predictions) (5.1.0)\n",
      "Requirement already satisfied: yarl<2.0,>=1.0 in /Users/jana/.pyenv/versions/3.8.6/envs/markdown_predictions/lib/python3.8/site-packages (from aiohttp->gcsfs->markdown_predictions) (1.6.3)\n",
      "Requirement already satisfied: typing-extensions>=3.6.5 in /Users/jana/.pyenv/versions/3.8.6/envs/markdown_predictions/lib/python3.8/site-packages (from aiohttp->gcsfs->markdown_predictions) (3.10.0.0)\n",
      "Requirement already satisfied: async-timeout<4.0,>=3.0 in /Users/jana/.pyenv/versions/3.8.6/envs/markdown_predictions/lib/python3.8/site-packages (from aiohttp->gcsfs->markdown_predictions) (3.0.1)\n"
     ]
    },
    {
     "name": "stdout",
     "output_type": "stream",
     "text": [
      "Requirement already satisfied: idna>=2.0 in /Users/jana/.pyenv/versions/3.8.6/envs/markdown_predictions/lib/python3.8/site-packages (from yarl<2.0,>=1.0->aiohttp->gcsfs->markdown_predictions) (3.2)\n",
      "Requirement already satisfied: requests-oauthlib>=0.7.0 in /Users/jana/.pyenv/versions/3.8.6/envs/markdown_predictions/lib/python3.8/site-packages (from google-auth-oauthlib->gcsfs->markdown_predictions) (1.3.0)\n",
      "Requirement already satisfied: oauthlib>=3.0.0 in /Users/jana/.pyenv/versions/3.8.6/envs/markdown_predictions/lib/python3.8/site-packages (from requests-oauthlib>=0.7.0->google-auth-oauthlib->gcsfs->markdown_predictions) (3.1.1)\n",
      "Requirement already satisfied: urllib3<1.27,>=1.21.1 in /Users/jana/.pyenv/versions/3.8.6/envs/markdown_predictions/lib/python3.8/site-packages (from requests->gcsfs->markdown_predictions) (1.26.6)\n",
      "Requirement already satisfied: charset-normalizer~=2.0.0 in /Users/jana/.pyenv/versions/3.8.6/envs/markdown_predictions/lib/python3.8/site-packages (from requests->gcsfs->markdown_predictions) (2.0.4)\n",
      "Requirement already satisfied: certifi>=2017.4.17 in /Users/jana/.pyenv/versions/3.8.6/envs/markdown_predictions/lib/python3.8/site-packages (from requests->gcsfs->markdown_predictions) (2021.5.30)\n",
      "Requirement already satisfied: google-api-core<3.0dev,>=1.29.0 in /Users/jana/.pyenv/versions/3.8.6/envs/markdown_predictions/lib/python3.8/site-packages (from google-cloud-storage->markdown_predictions) (2.0.0)\n",
      "Requirement already satisfied: google-resumable-media<3.0dev,>=1.3.0 in /Users/jana/.pyenv/versions/3.8.6/envs/markdown_predictions/lib/python3.8/site-packages (from google-cloud-storage->markdown_predictions) (2.0.0)\n",
      "Requirement already satisfied: google-cloud-core<3.0dev,>=1.6.0 in /Users/jana/.pyenv/versions/3.8.6/envs/markdown_predictions/lib/python3.8/site-packages (from google-cloud-storage->markdown_predictions) (2.0.0)\n",
      "Requirement already satisfied: protobuf>=3.12.0 in /Users/jana/.pyenv/versions/3.8.6/envs/markdown_predictions/lib/python3.8/site-packages (from google-api-core<3.0dev,>=1.29.0->google-cloud-storage->markdown_predictions) (3.17.3)\n",
      "Requirement already satisfied: googleapis-common-protos<2.0dev,>=1.6.0 in /Users/jana/.pyenv/versions/3.8.6/envs/markdown_predictions/lib/python3.8/site-packages (from google-api-core<3.0dev,>=1.29.0->google-cloud-storage->markdown_predictions) (1.53.0)\n",
      "Requirement already satisfied: google-crc32c<2.0dev,>=1.0 in /Users/jana/.pyenv/versions/3.8.6/envs/markdown_predictions/lib/python3.8/site-packages (from google-resumable-media<3.0dev,>=1.3.0->google-cloud-storage->markdown_predictions) (1.1.2)\n",
      "Requirement already satisfied: cffi>=1.0.0 in /Users/jana/.pyenv/versions/3.8.6/envs/markdown_predictions/lib/python3.8/site-packages (from google-crc32c<2.0dev,>=1.0->google-resumable-media<3.0dev,>=1.3.0->google-cloud-storage->markdown_predictions) (1.14.6)\n",
      "Requirement already satisfied: pycparser in /Users/jana/.pyenv/versions/3.8.6/envs/markdown_predictions/lib/python3.8/site-packages (from cffi>=1.0.0->google-crc32c<2.0dev,>=1.0->google-resumable-media<3.0dev,>=1.3.0->google-cloud-storage->markdown_predictions) (2.20)\n",
      "Requirement already satisfied: querystring-parser in /Users/jana/.pyenv/versions/3.8.6/envs/markdown_predictions/lib/python3.8/site-packages (from mlflow->markdown_predictions) (1.2.4)\n",
      "Requirement already satisfied: alembic<=1.4.1 in /Users/jana/.pyenv/versions/3.8.6/envs/markdown_predictions/lib/python3.8/site-packages (from mlflow->markdown_predictions) (1.4.1)\n",
      "Requirement already satisfied: gitpython>=2.1.0 in /Users/jana/.pyenv/versions/3.8.6/envs/markdown_predictions/lib/python3.8/site-packages (from mlflow->markdown_predictions) (3.1.18)\n",
      "Requirement already satisfied: packaging in /Users/jana/.pyenv/versions/3.8.6/envs/markdown_predictions/lib/python3.8/site-packages (from mlflow->markdown_predictions) (21.0)\n",
      "Requirement already satisfied: prometheus-flask-exporter in /Users/jana/.pyenv/versions/3.8.6/envs/markdown_predictions/lib/python3.8/site-packages (from mlflow->markdown_predictions) (0.18.2)\n",
      "Requirement already satisfied: databricks-cli>=0.8.7 in /Users/jana/.pyenv/versions/3.8.6/envs/markdown_predictions/lib/python3.8/site-packages (from mlflow->markdown_predictions) (0.15.0)\n",
      "Requirement already satisfied: Flask in /Users/jana/.pyenv/versions/3.8.6/envs/markdown_predictions/lib/python3.8/site-packages (from mlflow->markdown_predictions) (2.0.1)\n",
      "Requirement already satisfied: pytz in /Users/jana/.pyenv/versions/3.8.6/envs/markdown_predictions/lib/python3.8/site-packages (from mlflow->markdown_predictions) (2021.1)\n",
      "Requirement already satisfied: entrypoints in /Users/jana/.pyenv/versions/3.8.6/envs/markdown_predictions/lib/python3.8/site-packages (from mlflow->markdown_predictions) (0.3)\n",
      "Requirement already satisfied: gunicorn in /Users/jana/.pyenv/versions/3.8.6/envs/markdown_predictions/lib/python3.8/site-packages (from mlflow->markdown_predictions) (20.1.0)\n",
      "Requirement already satisfied: cloudpickle in /Users/jana/.pyenv/versions/3.8.6/envs/markdown_predictions/lib/python3.8/site-packages (from mlflow->markdown_predictions) (1.6.0)\n",
      "Requirement already satisfied: sqlparse>=0.3.1 in /Users/jana/.pyenv/versions/3.8.6/envs/markdown_predictions/lib/python3.8/site-packages (from mlflow->markdown_predictions) (0.4.1)\n",
      "Requirement already satisfied: docker>=4.0.0 in /Users/jana/.pyenv/versions/3.8.6/envs/markdown_predictions/lib/python3.8/site-packages (from mlflow->markdown_predictions) (5.0.0)\n",
      "Requirement already satisfied: pyyaml>=5.1 in /Users/jana/.pyenv/versions/3.8.6/envs/markdown_predictions/lib/python3.8/site-packages (from mlflow->markdown_predictions) (5.4.1)\n",
      "Requirement already satisfied: sqlalchemy in /Users/jana/.pyenv/versions/3.8.6/envs/markdown_predictions/lib/python3.8/site-packages (from mlflow->markdown_predictions) (1.4.23)\n",
      "Requirement already satisfied: Mako in /Users/jana/.pyenv/versions/3.8.6/envs/markdown_predictions/lib/python3.8/site-packages (from alembic<=1.4.1->mlflow->markdown_predictions) (1.1.5)\n",
      "Requirement already satisfied: python-editor>=0.3 in /Users/jana/.pyenv/versions/3.8.6/envs/markdown_predictions/lib/python3.8/site-packages (from alembic<=1.4.1->mlflow->markdown_predictions) (1.0.4)\n",
      "Requirement already satisfied: python-dateutil in /Users/jana/.pyenv/versions/3.8.6/envs/markdown_predictions/lib/python3.8/site-packages (from alembic<=1.4.1->mlflow->markdown_predictions) (2.8.2)\n",
      "Requirement already satisfied: tabulate>=0.7.7 in /Users/jana/.pyenv/versions/3.8.6/envs/markdown_predictions/lib/python3.8/site-packages (from databricks-cli>=0.8.7->mlflow->markdown_predictions) (0.8.9)\n",
      "Requirement already satisfied: websocket-client>=0.32.0 in /Users/jana/.pyenv/versions/3.8.6/envs/markdown_predictions/lib/python3.8/site-packages (from docker>=4.0.0->mlflow->markdown_predictions) (1.2.1)\n",
      "Requirement already satisfied: gitdb<5,>=4.0.1 in /Users/jana/.pyenv/versions/3.8.6/envs/markdown_predictions/lib/python3.8/site-packages (from gitpython>=2.1.0->mlflow->markdown_predictions) (4.0.7)\n",
      "Requirement already satisfied: smmap<5,>=3.0.1 in /Users/jana/.pyenv/versions/3.8.6/envs/markdown_predictions/lib/python3.8/site-packages (from gitdb<5,>=4.0.1->gitpython>=2.1.0->mlflow->markdown_predictions) (4.0.0)\n",
      "Requirement already satisfied: greenlet!=0.4.17 in /Users/jana/.pyenv/versions/3.8.6/envs/markdown_predictions/lib/python3.8/site-packages (from sqlalchemy->mlflow->markdown_predictions) (1.1.1)\n",
      "Requirement already satisfied: Werkzeug>=2.0 in /Users/jana/.pyenv/versions/3.8.6/envs/markdown_predictions/lib/python3.8/site-packages (from Flask->mlflow->markdown_predictions) (2.0.1)\n",
      "Requirement already satisfied: Jinja2>=3.0 in /Users/jana/.pyenv/versions/3.8.6/envs/markdown_predictions/lib/python3.8/site-packages (from Flask->mlflow->markdown_predictions) (3.0.1)\n",
      "Requirement already satisfied: itsdangerous>=2.0 in /Users/jana/.pyenv/versions/3.8.6/envs/markdown_predictions/lib/python3.8/site-packages (from Flask->mlflow->markdown_predictions) (2.0.1)\n",
      "Requirement already satisfied: MarkupSafe>=2.0 in /Users/jana/.pyenv/versions/3.8.6/envs/markdown_predictions/lib/python3.8/site-packages (from Jinja2>=3.0->Flask->mlflow->markdown_predictions) (2.0.1)\n"
     ]
    },
    {
     "name": "stdout",
     "output_type": "stream",
     "text": [
      "Requirement already satisfied: pyparsing>=2.0.2 in /Users/jana/.pyenv/versions/3.8.6/envs/markdown_predictions/lib/python3.8/site-packages (from packaging->mlflow->markdown_predictions) (2.4.7)\n",
      "Requirement already satisfied: prometheus-client in /Users/jana/.pyenv/versions/3.8.6/envs/markdown_predictions/lib/python3.8/site-packages (from prometheus-flask-exporter->mlflow->markdown_predictions) (0.11.0)\n",
      "Requirement already satisfied: py>=1.8.2 in /Users/jana/.pyenv/versions/3.8.6/envs/markdown_predictions/lib/python3.8/site-packages (from pytest->markdown_predictions) (1.10.0)\n",
      "Requirement already satisfied: toml in /Users/jana/.pyenv/versions/3.8.6/envs/markdown_predictions/lib/python3.8/site-packages (from pytest->markdown_predictions) (0.10.2)\n",
      "Requirement already satisfied: iniconfig in /Users/jana/.pyenv/versions/3.8.6/envs/markdown_predictions/lib/python3.8/site-packages (from pytest->markdown_predictions) (1.1.1)\n",
      "Requirement already satisfied: pluggy<1.0.0a1,>=0.12 in /Users/jana/.pyenv/versions/3.8.6/envs/markdown_predictions/lib/python3.8/site-packages (from pytest->markdown_predictions) (0.13.1)\n",
      "Requirement already satisfied: aiobotocore~=1.4.0 in /Users/jana/.pyenv/versions/3.8.6/envs/markdown_predictions/lib/python3.8/site-packages (from s3fs->markdown_predictions) (1.4.0)\n",
      "Requirement already satisfied: botocore<1.20.107,>=1.20.106 in /Users/jana/.pyenv/versions/3.8.6/envs/markdown_predictions/lib/python3.8/site-packages (from aiobotocore~=1.4.0->s3fs->markdown_predictions) (1.20.106)\n",
      "Requirement already satisfied: wrapt>=1.10.10 in /Users/jana/.pyenv/versions/3.8.6/envs/markdown_predictions/lib/python3.8/site-packages (from aiobotocore~=1.4.0->s3fs->markdown_predictions) (1.12.1)\n",
      "Requirement already satisfied: aioitertools>=0.5.1 in /Users/jana/.pyenv/versions/3.8.6/envs/markdown_predictions/lib/python3.8/site-packages (from aiobotocore~=1.4.0->s3fs->markdown_predictions) (0.8.0)\n",
      "Requirement already satisfied: jmespath<1.0.0,>=0.7.1 in /Users/jana/.pyenv/versions/3.8.6/envs/markdown_predictions/lib/python3.8/site-packages (from botocore<1.20.107,>=1.20.106->aiobotocore~=1.4.0->s3fs->markdown_predictions) (0.10.0)\n",
      "Requirement already satisfied: scipy>=0.19.1 in /Users/jana/.pyenv/versions/3.8.6/envs/markdown_predictions/lib/python3.8/site-packages (from scikit-learn->markdown_predictions) (1.7.1)\n",
      "Requirement already satisfied: threadpoolctl>=2.0.0 in /Users/jana/.pyenv/versions/3.8.6/envs/markdown_predictions/lib/python3.8/site-packages (from scikit-learn->markdown_predictions) (2.2.0)\n",
      "Requirement already satisfied: requests-toolbelt!=0.9.0,>=0.8.0 in /Users/jana/.pyenv/versions/3.8.6/envs/markdown_predictions/lib/python3.8/site-packages (from twine->markdown_predictions) (0.9.1)\n",
      "Requirement already satisfied: keyring>=15.1 in /Users/jana/.pyenv/versions/3.8.6/envs/markdown_predictions/lib/python3.8/site-packages (from twine->markdown_predictions) (23.1.0)\n",
      "Requirement already satisfied: colorama>=0.4.3 in /Users/jana/.pyenv/versions/3.8.6/envs/markdown_predictions/lib/python3.8/site-packages (from twine->markdown_predictions) (0.4.4)\n",
      "Requirement already satisfied: importlib-metadata>=3.6 in /Users/jana/.pyenv/versions/3.8.6/envs/markdown_predictions/lib/python3.8/site-packages (from twine->markdown_predictions) (4.6.4)\n",
      "Requirement already satisfied: rfc3986>=1.4.0 in /Users/jana/.pyenv/versions/3.8.6/envs/markdown_predictions/lib/python3.8/site-packages (from twine->markdown_predictions) (1.5.0)\n",
      "Requirement already satisfied: readme-renderer>=21.0 in /Users/jana/.pyenv/versions/3.8.6/envs/markdown_predictions/lib/python3.8/site-packages (from twine->markdown_predictions) (29.0)\n",
      "Requirement already satisfied: pkginfo>=1.4.2 in /Users/jana/.pyenv/versions/3.8.6/envs/markdown_predictions/lib/python3.8/site-packages (from twine->markdown_predictions) (1.7.1)\n",
      "Requirement already satisfied: tqdm>=4.14 in /Users/jana/.pyenv/versions/3.8.6/envs/markdown_predictions/lib/python3.8/site-packages (from twine->markdown_predictions) (4.62.1)\n",
      "Requirement already satisfied: zipp>=0.5 in /Users/jana/.pyenv/versions/3.8.6/envs/markdown_predictions/lib/python3.8/site-packages (from importlib-metadata>=3.6->twine->markdown_predictions) (3.5.0)\n",
      "Requirement already satisfied: Pygments>=2.5.1 in /Users/jana/.pyenv/versions/3.8.6/envs/markdown_predictions/lib/python3.8/site-packages (from readme-renderer>=21.0->twine->markdown_predictions) (2.9.0)\n",
      "Requirement already satisfied: bleach>=2.1.0 in /Users/jana/.pyenv/versions/3.8.6/envs/markdown_predictions/lib/python3.8/site-packages (from readme-renderer>=21.0->twine->markdown_predictions) (4.0.0)\n",
      "Requirement already satisfied: docutils>=0.13.1 in /Users/jana/.pyenv/versions/3.8.6/envs/markdown_predictions/lib/python3.8/site-packages (from readme-renderer>=21.0->twine->markdown_predictions) (0.17.1)\n",
      "Requirement already satisfied: webencodings in /Users/jana/.pyenv/versions/3.8.6/envs/markdown_predictions/lib/python3.8/site-packages (from bleach>=2.1.0->readme-renderer>=21.0->twine->markdown_predictions) (0.5.1)\n",
      "Building wheels for collected packages: markdown-predictions\n",
      "  Building wheel for markdown-predictions (setup.py) ... \u001b[?25ldone\n",
      "\u001b[?25h  Created wheel for markdown-predictions: filename=markdown_predictions-1.6-py3-none-any.whl size=5561 sha256=5cca1b81aa54608bb1cc2b84aedc0b6207367d90bbc6b094516eafff73640179\n",
      "  Stored in directory: /Users/jana/Library/Caches/pip/wheels/58/ba/67/fbaf34d05e10ae0accc2e2d8c0f9de7d928270178a88ec5be8\n",
      "Successfully built markdown-predictions\n",
      "Installing collected packages: markdown-predictions\n",
      "  Attempting uninstall: markdown-predictions\n",
      "    Found existing installation: markdown-predictions 1.5\n",
      "    Uninstalling markdown-predictions-1.5:\n",
      "      Successfully uninstalled markdown-predictions-1.5\n",
      "Successfully installed markdown-predictions-1.6\n"
     ]
    }
   ],
   "source": [
    "!pip install --upgrade markdown_predictions"
   ]
  },
  {
   "cell_type": "code",
   "execution_count": 3,
   "id": "5b54b130",
   "metadata": {},
   "outputs": [],
   "source": [
    "from markdown_predictions import get_data"
   ]
  },
  {
   "cell_type": "code",
   "execution_count": 5,
   "id": "14bdde19",
   "metadata": {},
   "outputs": [
    {
     "ename": "FileNotFoundError",
     "evalue": "[Errno 2] No such file or directory: 'default_files/columns_dict.json'",
     "output_type": "error",
     "traceback": [
      "\u001b[0;31m---------------------------------------------------------------------------\u001b[0m",
      "\u001b[0;31mFileNotFoundError\u001b[0m                         Traceback (most recent call last)",
      "\u001b[0;32m/var/folders/h5/gjdh07b54kxcq7yq7v2s0gbh0000gn/T/ipykernel_56151/2421991652.py\u001b[0m in \u001b[0;36m<module>\u001b[0;34m\u001b[0m\n\u001b[0;32m----> 1\u001b[0;31m \u001b[0mget_data\u001b[0m\u001b[0;34m(\u001b[0m\u001b[0;34m\"/Users/jana/code/janagarina/markdown_predictions/raw_data\"\u001b[0m\u001b[0;34m)\u001b[0m\u001b[0;34m\u001b[0m\u001b[0;34m\u001b[0m\u001b[0m\n\u001b[0m",
      "\u001b[0;32m~/.pyenv/versions/markdown_predictions/lib/python3.8/site-packages/markdown_predictions/trainer.py\u001b[0m in \u001b[0;36mget_data\u001b[0;34m(data_path)\u001b[0m\n\u001b[1;32m      7\u001b[0m \u001b[0;32mdef\u001b[0m \u001b[0mget_data\u001b[0m\u001b[0;34m(\u001b[0m\u001b[0mdata_path\u001b[0m\u001b[0;34m:\u001b[0m \u001b[0mstr\u001b[0m\u001b[0;34m)\u001b[0m \u001b[0;34m->\u001b[0m \u001b[0mpd\u001b[0m\u001b[0;34m.\u001b[0m\u001b[0mDataFrame\u001b[0m\u001b[0;34m:\u001b[0m\u001b[0;34m\u001b[0m\u001b[0;34m\u001b[0m\u001b[0m\n\u001b[1;32m      8\u001b[0m     \u001b[0;34m\"\"\" Load in and clean the data \"\"\"\u001b[0m\u001b[0;34m\u001b[0m\u001b[0;34m\u001b[0m\u001b[0m\n\u001b[0;32m----> 9\u001b[0;31m     \u001b[0mload_data\u001b[0m \u001b[0;34m=\u001b[0m \u001b[0mLoadSalesData\u001b[0m\u001b[0;34m.\u001b[0m\u001b[0mload_in_files\u001b[0m\u001b[0;34m(\u001b[0m\u001b[0mdata_path\u001b[0m\u001b[0;34m)\u001b[0m\u001b[0;34m\u001b[0m\u001b[0;34m\u001b[0m\u001b[0m\n\u001b[0m\u001b[1;32m     10\u001b[0m     \u001b[0mpre_processor\u001b[0m \u001b[0;34m=\u001b[0m \u001b[0mPreProcessor\u001b[0m\u001b[0;34m(\u001b[0m\u001b[0mdf\u001b[0m\u001b[0;34m=\u001b[0m\u001b[0mload_data\u001b[0m\u001b[0;34m.\u001b[0m\u001b[0msales_data\u001b[0m\u001b[0;34m)\u001b[0m\u001b[0;34m\u001b[0m\u001b[0;34m\u001b[0m\u001b[0m\n\u001b[1;32m     11\u001b[0m     \u001b[0mpre_processor\u001b[0m\u001b[0;34m.\u001b[0m\u001b[0mclean_up_data\u001b[0m\u001b[0;34m(\u001b[0m\u001b[0;34m)\u001b[0m\u001b[0;34m\u001b[0m\u001b[0;34m\u001b[0m\u001b[0m\n",
      "\u001b[0;32m~/.pyenv/versions/markdown_predictions/lib/python3.8/site-packages/markdown_predictions/parse_data.py\u001b[0m in \u001b[0;36mload_in_files\u001b[0;34m(cls, file_path)\u001b[0m\n\u001b[1;32m     89\u001b[0m     \u001b[0;32mdef\u001b[0m \u001b[0mload_in_files\u001b[0m\u001b[0;34m(\u001b[0m\u001b[0mcls\u001b[0m\u001b[0;34m,\u001b[0m \u001b[0mfile_path\u001b[0m\u001b[0;34m:\u001b[0m \u001b[0mstr\u001b[0m\u001b[0;34m)\u001b[0m\u001b[0;34m:\u001b[0m\u001b[0;34m\u001b[0m\u001b[0;34m\u001b[0m\u001b[0m\n\u001b[1;32m     90\u001b[0m         \u001b[0;34m\"\"\" Load in Files \"\"\"\u001b[0m\u001b[0;34m\u001b[0m\u001b[0;34m\u001b[0m\u001b[0m\n\u001b[0;32m---> 91\u001b[0;31m         \u001b[0mmapping\u001b[0m \u001b[0;34m=\u001b[0m \u001b[0mLoadSalesData\u001b[0m\u001b[0;34m.\u001b[0m\u001b[0mmake_dict_lowercase\u001b[0m\u001b[0;34m(\u001b[0m\u001b[0mLoadSalesData\u001b[0m\u001b[0;34m.\u001b[0m\u001b[0mparse_json\u001b[0m\u001b[0;34m(\u001b[0m\u001b[0mjson_path\u001b[0m\u001b[0;34m=\u001b[0m\u001b[0mos\u001b[0m\u001b[0;34m.\u001b[0m\u001b[0mpath\u001b[0m\u001b[0;34m.\u001b[0m\u001b[0mjoin\u001b[0m\u001b[0;34m(\u001b[0m\u001b[0mJSON_PATH\u001b[0m\u001b[0;34m,\u001b[0m \u001b[0mCOLUMN_DICT\u001b[0m\u001b[0;34m)\u001b[0m\u001b[0;34m)\u001b[0m\u001b[0;34m)\u001b[0m\u001b[0;34m\u001b[0m\u001b[0;34m\u001b[0m\u001b[0m\n\u001b[0m\u001b[1;32m     92\u001b[0m         \u001b[0mselected_columns\u001b[0m \u001b[0;34m=\u001b[0m \u001b[0mLoadSalesData\u001b[0m\u001b[0;34m.\u001b[0m\u001b[0mparse_json\u001b[0m\u001b[0;34m(\u001b[0m\u001b[0mjson_path\u001b[0m\u001b[0;34m=\u001b[0m\u001b[0mos\u001b[0m\u001b[0;34m.\u001b[0m\u001b[0mpath\u001b[0m\u001b[0;34m.\u001b[0m\u001b[0mjoin\u001b[0m\u001b[0;34m(\u001b[0m\u001b[0mJSON_PATH\u001b[0m\u001b[0;34m,\u001b[0m \u001b[0mSELECTED_COLS_DICT\u001b[0m\u001b[0;34m)\u001b[0m\u001b[0;34m)\u001b[0m\u001b[0;34m\u001b[0m\u001b[0;34m\u001b[0m\u001b[0m\n\u001b[1;32m     93\u001b[0m \u001b[0;34m\u001b[0m\u001b[0m\n",
      "\u001b[0;32m~/.pyenv/versions/markdown_predictions/lib/python3.8/site-packages/markdown_predictions/parse_data.py\u001b[0m in \u001b[0;36mparse_json\u001b[0;34m(json_path)\u001b[0m\n\u001b[1;32m     36\u001b[0m     \u001b[0;32mdef\u001b[0m \u001b[0mparse_json\u001b[0m\u001b[0;34m(\u001b[0m\u001b[0mjson_path\u001b[0m\u001b[0;34m:\u001b[0m \u001b[0mstr\u001b[0m\u001b[0;34m)\u001b[0m\u001b[0;34m:\u001b[0m\u001b[0;34m\u001b[0m\u001b[0;34m\u001b[0m\u001b[0m\n\u001b[1;32m     37\u001b[0m         \u001b[0;34m\"\"\" Parse a JSON file to python dictionary \"\"\"\u001b[0m\u001b[0;34m\u001b[0m\u001b[0;34m\u001b[0m\u001b[0m\n\u001b[0;32m---> 38\u001b[0;31m         \u001b[0;32mwith\u001b[0m \u001b[0mopen\u001b[0m\u001b[0;34m(\u001b[0m\u001b[0mjson_path\u001b[0m\u001b[0;34m)\u001b[0m \u001b[0;32mas\u001b[0m \u001b[0mf\u001b[0m\u001b[0;34m:\u001b[0m\u001b[0;34m\u001b[0m\u001b[0;34m\u001b[0m\u001b[0m\n\u001b[0m\u001b[1;32m     39\u001b[0m             \u001b[0mparsed_dict\u001b[0m \u001b[0;34m=\u001b[0m \u001b[0mjson\u001b[0m\u001b[0;34m.\u001b[0m\u001b[0mload\u001b[0m\u001b[0;34m(\u001b[0m\u001b[0mf\u001b[0m\u001b[0;34m)\u001b[0m\u001b[0;34m\u001b[0m\u001b[0;34m\u001b[0m\u001b[0m\n\u001b[1;32m     40\u001b[0m         \u001b[0;32mreturn\u001b[0m \u001b[0mparsed_dict\u001b[0m\u001b[0;34m\u001b[0m\u001b[0;34m\u001b[0m\u001b[0m\n",
      "\u001b[0;31mFileNotFoundError\u001b[0m: [Errno 2] No such file or directory: 'default_files/columns_dict.json'"
     ]
    }
   ],
   "source": [
    "get_data(\"/Users/jana/code/janagarina/markdown_predictions/raw_data\")"
   ]
  },
  {
   "cell_type": "code",
   "execution_count": null,
   "id": "4013c07a",
   "metadata": {},
   "outputs": [],
   "source": []
  }
 ],
 "metadata": {
  "kernelspec": {
   "display_name": "markdown_predictions",
   "language": "python",
   "name": "markdown_predictions"
  },
  "language_info": {
   "codemirror_mode": {
    "name": "ipython",
    "version": 3
   },
   "file_extension": ".py",
   "mimetype": "text/x-python",
   "name": "python",
   "nbconvert_exporter": "python",
   "pygments_lexer": "ipython3",
   "version": "3.8.6"
  },
  "toc": {
   "base_numbering": 1,
   "nav_menu": {},
   "number_sections": true,
   "sideBar": true,
   "skip_h1_title": false,
   "title_cell": "Table of Contents",
   "title_sidebar": "Contents",
   "toc_cell": false,
   "toc_position": {},
   "toc_section_display": true,
   "toc_window_display": true
  }
 },
 "nbformat": 4,
 "nbformat_minor": 5
}
